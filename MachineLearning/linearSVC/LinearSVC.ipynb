{
 "metadata": {
  "language_info": {
   "codemirror_mode": {
    "name": "ipython",
    "version": 3
   },
   "file_extension": ".py",
   "mimetype": "text/x-python",
   "name": "python",
   "nbconvert_exporter": "python",
   "pygments_lexer": "ipython3",
   "version": "3.8.6-final"
  },
  "orig_nbformat": 2,
  "kernelspec": {
   "name": "python3",
   "display_name": "Python 3.8.6 64-bit ('ubcmds': conda)",
   "metadata": {
    "interpreter": {
     "hash": "2af5765c578ae65fb033f33ea1a8c0beb17625c0b89fe9a2baabfd233d669655"
    }
   }
  }
 },
 "nbformat": 4,
 "nbformat_minor": 2,
 "cells": [
  {
   "cell_type": "code",
   "execution_count": 40,
   "metadata": {},
   "outputs": [],
   "source": [
    "import pandas as pd \n",
    "\n",
    "from sklearn.feature_extraction.text import CountVectorizer\n",
    "\n",
    "from sklearn.pipeline import make_pipeline\n",
    "from sklearn.compose import make_column_transformer\n",
    "from sklearn.preprocessing import LabelEncoder\n",
    "from sklearn.model_selection import train_test_split\n",
    "from sklearn.feature_extraction.text import CountVectorizer\n",
    "from sklearn.feature_extraction.text import TfidfTransformer\n",
    "from sklearn.svm import LinearSVC\n",
    "import numpy as np"
   ]
  },
  {
   "cell_type": "code",
   "execution_count": 18,
   "metadata": {},
   "outputs": [],
   "source": [
    "df = pd.read_csv(\"../../data/mturks_results.csv\")\n",
    "df.columns = ['ingredients', 'preparation', 'description','relatedRecipes', 'current_url', 'document_url','first_annotator', 'second_annotator','third_annotator','most_common']\n",
    "df = df[df['most_common'] != \"None\"]\n",
    "le = LabelEncoder()\n",
    "df['target'] = le.fit_transform(df.most_common)\n",
    "df.dropna(inplace=True)\n",
    "df['text'] = df[['ingredients', 'preparation', 'description', 'document_url']].agg(' '.join, axis=1)"
   ]
  },
  {
   "cell_type": "code",
   "execution_count": 19,
   "metadata": {},
   "outputs": [
    {
     "output_type": "execute_result",
     "data": {
      "text/plain": [
       "{0: 'Appetizer or side dish',\n",
       " 1: 'Dessert',\n",
       " 3: 'Main course',\n",
       " 2: 'Drinks',\n",
       " 4: 'Other'}"
      ]
     },
     "metadata": {},
     "execution_count": 19
    }
   ],
   "source": [
    "classes_dict = dict(zip(df.target, df.most_common))\n",
    "classes_dict"
   ]
  },
  {
   "cell_type": "code",
   "execution_count": 63,
   "metadata": {},
   "outputs": [],
   "source": [
    "preprocessor = CountVectorizer(max_features=2000)"
   ]
  },
  {
   "cell_type": "code",
   "execution_count": 66,
   "metadata": {},
   "outputs": [],
   "source": [
    "# Train on whole dataset\n",
    "tfidf_transformer = TfidfTransformer()\n",
    "processed = preprocessor.fit_transform(df['text'].to_list())\n",
    "train_tfidf = tfidf_transformer.fit_transform(processed)\n",
    "clf = LinearSVC(class_weight=\"balanced\").fit(train_tfidf, df['target'].to_list())"
   ]
  },
  {
   "cell_type": "code",
   "execution_count": 67,
   "metadata": {},
   "outputs": [
    {
     "output_type": "execute_result",
     "data": {
      "text/plain": [
       "0.9741496598639455"
      ]
     },
     "metadata": {},
     "execution_count": 67
    }
   ],
   "source": [
    "clf.score(train_tfidf, df['target'])"
   ]
  },
  {
   "cell_type": "code",
   "execution_count": 45,
   "metadata": {},
   "outputs": [
    {
     "output_type": "execute_result",
     "data": {
      "text/plain": [
       "(735, 1)"
      ]
     },
     "metadata": {},
     "execution_count": 45
    }
   ],
   "source": []
  },
  {
   "cell_type": "code",
   "execution_count": 71,
   "metadata": {},
   "outputs": [],
   "source": [
    "# Save model, transformers to pickle\n",
    "\n",
    "import pickle\n",
    "\n",
    "filehandler = open(\"linearSVC_model.pkl\",\"wb\")\n",
    "pickle.dump(clf,filehandler)\n",
    "filehandler.close()\n",
    "\n",
    "filehandler = open(\"linearSVC_preprocessor.pkl\",\"wb\")\n",
    "pickle.dump(preprocessor,filehandler)\n",
    "filehandler.close()\n",
    "\n",
    "filehandler = open(\"linearSVC_tfidfTransformer.pkl\",\"wb\")\n",
    "pickle.dump(tfidf_transformer,filehandler)\n",
    "filehandler.close()"
   ]
  },
  {
   "cell_type": "code",
   "execution_count": 85,
   "metadata": {},
   "outputs": [],
   "source": [
    "import pickle\n",
    "import numpy as np\n",
    "\n",
    "class LinearClassifier:\n",
    "    def __init__(self):\n",
    "        self.model = pickle.load(open(\"linearSVC_model.pkl\", 'rb'))\n",
    "        self.preprocessor = pickle.load(open(\"linearSVC_preprocessor.pkl\", 'rb'))\n",
    "        self.transformer = pickle.load(open(\"linearSVC_tfidfTransformer.pkl\", 'rb'))\n",
    "        self.classes = {0: 'Appetizer or side dish', 1: 'Dessert', 3: 'Main course', 2: 'Drinks', 4: 'Other'}\n",
    "\n",
    "    def predict(self, text):\n",
    "        processed = self.preprocessor.transform(text)\n",
    "        transformed = self.transformer.transform(processed)\n",
    "        prediction = self.model.predict(transformed)[0]\n",
    "        return self.classes[prediction]"
   ]
  },
  {
   "cell_type": "code",
   "execution_count": 86,
   "metadata": {},
   "outputs": [],
   "source": [
    "classifier = LinearClassifier()"
   ]
  },
  {
   "cell_type": "code",
   "execution_count": 87,
   "metadata": {},
   "outputs": [
    {
     "output_type": "execute_result",
     "data": {
      "text/plain": [
       "'Appetizer or side dish'"
      ]
     },
     "metadata": {},
     "execution_count": 87
    }
   ],
   "source": [
    "classifier.predict([\"text\"])"
   ]
  },
  {
   "cell_type": "code",
   "execution_count": null,
   "metadata": {},
   "outputs": [],
   "source": []
  }
 ]
}